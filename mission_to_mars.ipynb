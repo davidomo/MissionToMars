{
 "cells": [
  {
   "cell_type": "code",
   "execution_count": 1,
   "metadata": {
    "collapsed": true
   },
   "outputs": [],
   "source": [
    "from bs4 import BeautifulSoup as BS\n",
    "import requests"
   ]
  },
  {
   "cell_type": "markdown",
   "metadata": {},
   "source": [
    "-- NASA Mars News"
   ]
  },
  {
   "cell_type": "code",
   "execution_count": 2,
   "metadata": {},
   "outputs": [
    {
     "name": "stdout",
     "output_type": "stream",
     "text": [
      "[<div class=\"grid_layout\">\n",
      "<header>\n",
      "<h2 class=\"module_title\">You Might Also Like</h2>\n",
      "</header>\n",
      "<section>\n",
      "<script>\n",
      "  $(document).ready(function(){\n",
      "    $(\".features\").slick({\n",
      "      dots: false,\n",
      "      infinite: true,\n",
      "      speed: 300,\n",
      "      slide: '.features .slide',\n",
      "      slidesToShow: 3,\n",
      "      slidesToScroll: 3,\n",
      "      lazyLoad: 'ondemand',\n",
      "      centerMode: false,\n",
      "      arrows: true,\n",
      "      appendArrows: '.features .slick-nav',\n",
      "      appendDots: \".features .slick-nav\",\n",
      "      responsive: [{\"breakpoint\":953,\"settings\":{\"slidesToShow\":2,\"slidesToScroll\":2,\"centerMode\":false}},{\"breakpoint\":480,\"settings\":{\"slidesToShow\":1,\"slidesToScroll\":1,\"centerMode\":true,\"arrows\":false,\"centerPadding\":\"25px\"}}]\n",
      "    });\n",
      "  });\n",
      "</script>\n",
      "<div class=\"features\">\n",
      "<div class=\"slide\">\n",
      "<div class=\"image_and_description_container\">\n",
      "<a href=\"/news/8310/5000-days-on-mars-solar-powered-rover-approaching-5000th-martian-dawn/\">\n",
      "<div class=\"rollover_description\">\n",
      "<div class=\"rollover_description_inner\">\n",
      "The Sun will rise on NASA's solar-powered Mars rover Opportunity for the 5,000th time on Saturday, sending rays of energy to a robot that continues to provide revelations.\n",
      "</div>\n",
      "<div class=\"overlay_arrow\">\n",
      "<img alt=\"More\" src=\"/assets/overlay-arrow.png\"/>\n",
      "</div>\n",
      "</div>\n",
      "<img alt=\"5,000 Days on Mars; Solar-Powered Rover Approaching 5,000th Martian Dawn\" class=\"img-lazy\" data-lazy=\"/system/news_items/list_view_images/8310_PIA22216_320.jpg\" src=\"/assets/loading_320x240.png\"/>\n",
      "</a>\n",
      "</div>\n",
      "<div class=\"content_title\">\n",
      "<a href=\"/news/8310/5000-days-on-mars-solar-powered-rover-approaching-5000th-martian-dawn/\">\n",
      "5,000 Days on Mars; Solar-Powered Rover Approaching 5,000th Martian Dawn\n",
      "</a>\n",
      "</div>\n",
      "</div>\n",
      "<div class=\"slide\">\n",
      "<div class=\"image_and_description_container\">\n",
      "<a href=\"/news/8309/long-lived-mars-rover-opportunity-keeps-finding-surprises/\">\n",
      "<div class=\"rollover_description\">\n",
      "<div class=\"rollover_description_inner\">\n",
      "NASA's Mars Exploration Rover Opportunity keeps providing surprises about the Red Planet, most recently with observations of possible \"rock stripes.\"\n",
      "</div>\n",
      "<div class=\"overlay_arrow\">\n",
      "<img alt=\"More\" src=\"/assets/overlay-arrow.png\"/>\n",
      "</div>\n",
      "</div>\n",
      "<img alt=\"Long-Lived Mars Rover Opportunity Keeps Finding Surprises\" class=\"img-lazy\" data-lazy=\"/system/news_items/list_view_images/8309_PIA22217_320.jpg\" src=\"/assets/loading_320x240.png\"/>\n",
      "</a>\n",
      "</div>\n",
      "<div class=\"content_title\">\n",
      "<a href=\"/news/8309/long-lived-mars-rover-opportunity-keeps-finding-surprises/\">\n",
      "Long-Lived Mars Rover Opportunity Keeps Finding Surprises\n",
      "</a>\n",
      "</div>\n",
      "</div>\n",
      "<div class=\"slide\">\n",
      "<div class=\"image_and_description_container\">\n",
      "<a href=\"/news/8308/a-piece-of-mars-is-going-home/\">\n",
      "<div class=\"rollover_description\">\n",
      "<div class=\"rollover_description_inner\">\n",
      "When it launches in 2020, NASA's next Mars rover will carry a chunk of Martian meteorite on board.\n",
      "</div>\n",
      "<div class=\"overlay_arrow\">\n",
      "<img alt=\"More\" src=\"/assets/overlay-arrow.png\"/>\n",
      "</div>\n",
      "</div>\n",
      "<img alt=\"A Piece of Mars is Going Home\" class=\"img-lazy\" data-lazy=\"/system/news_items/list_view_images/8308_PIA22245_320.JPG\" src=\"/assets/loading_320x240.png\"/>\n",
      "</a>\n",
      "</div>\n",
      "<div class=\"content_title\">\n",
      "<a href=\"/news/8308/a-piece-of-mars-is-going-home/\">\n",
      "A Piece of Mars is Going Home\n",
      "</a>\n",
      "</div>\n",
      "</div>\n",
      "<div class=\"slide\">\n",
      "<div class=\"image_and_description_container\">\n",
      "<a href=\"/news/8307/mars-reconnaissance-orbiter-preparing-for-years-ahead/\">\n",
      "<div class=\"rollover_description\">\n",
      "<div class=\"rollover_description_inner\">\n",
      "NASA's Mars Reconnaissance Orbiter (MRO) has begun extra stargazing to help the space agency accomplish advances in Mars exploration over the next decade.\n",
      "</div>\n",
      "<div class=\"overlay_arrow\">\n",
      "<img alt=\"More\" src=\"/assets/overlay-arrow.png\"/>\n",
      "</div>\n",
      "</div>\n",
      "<img alt=\"Mars Reconnaissance Orbiter Preparing for Years Ahead\" class=\"img-lazy\" data-lazy=\"/system/news_items/list_view_images/8307_pia05490_320.jpg\" src=\"/assets/loading_320x240.png\"/>\n",
      "</a>\n",
      "</div>\n",
      "<div class=\"content_title\">\n",
      "<a href=\"/news/8307/mars-reconnaissance-orbiter-preparing-for-years-ahead/\">\n",
      "Mars Reconnaissance Orbiter Preparing for Years Ahead\n",
      "</a>\n",
      "</div>\n",
      "</div>\n",
      "<div class=\"slide\">\n",
      "<div class=\"image_and_description_container\">\n",
      "<a href=\"/news/8305/tiny-crystal-shapes-get-close-look-from-mars-rover/\">\n",
      "<div class=\"rollover_description\">\n",
      "<div class=\"rollover_description_inner\">\n",
      "Star-shaped, tiny, dark bumps in the fine-layered bright bedrock of a Martian ridge are drawing close inspection by NASA's Curiosity Mars rover.\n",
      "</div>\n",
      "<div class=\"overlay_arrow\">\n",
      "<img alt=\"More\" src=\"/assets/overlay-arrow.png\"/>\n",
      "</div>\n",
      "</div>\n",
      "<img alt=\"Tiny Crystal Shapes Get Close Look From Mars Rover\" class=\"img-lazy\" data-lazy=\"/system/news_items/list_view_images/8305_pia22213_320.jpg\" src=\"/assets/loading_320x240.png\"/>\n",
      "</a>\n",
      "</div>\n",
      "<div class=\"content_title\">\n",
      "<a href=\"/news/8305/tiny-crystal-shapes-get-close-look-from-mars-rover/\">\n",
      "Tiny Crystal Shapes Get Close Look From Mars Rover\n",
      "</a>\n",
      "</div>\n",
      "</div>\n",
      "<div class=\"slide\">\n",
      "<div class=\"image_and_description_container\">\n",
      "<a href=\"/news/8304/nasa-tests-atomic-clock-for-deep-space-navigation/\">\n",
      "<div class=\"rollover_description\">\n",
      "<div class=\"rollover_description_inner\">\n",
      "Project could help spacecraft keep time more efficiently and allow ground stations to better track multiple satellites at once near crowded areas like Mars.\n",
      "</div>\n",
      "<div class=\"overlay_arrow\">\n",
      "<img alt=\"More\" src=\"/assets/overlay-arrow.png\"/>\n",
      "</div>\n",
      "</div>\n",
      "<img alt=\"NASA Tests Atomic Clock for Deep Space Navigation\" class=\"img-lazy\" data-lazy=\"/system/news_items/list_view_images/8304_dsac20180206_320.jpg\" src=\"/assets/loading_320x240.png\"/>\n",
      "</a>\n",
      "</div>\n",
      "<div class=\"content_title\">\n",
      "<a href=\"/news/8304/nasa-tests-atomic-clock-for-deep-space-navigation/\">\n",
      "NASA Tests Atomic Clock for Deep Space Navigation\n",
      "</a>\n",
      "</div>\n",
      "</div>\n",
      "<div class=\"grid_layout\">\n",
      "<div class=\"slick-nav_container\">\n",
      "<div class=\"slick-nav\"></div>\n",
      "</div>\n",
      "</div>\n",
      "</div>\n",
      "</section>\n",
      "</div>, <div class=\"grid_layout\">\n",
      "<div class=\"slick-nav_container\">\n",
      "<div class=\"slick-nav\"></div>\n",
      "</div>\n",
      "</div>, <div class=\"grid_layout\">\n",
      "<section class=\"upper_footer\">\n",
      "<div class=\"share\">\n",
      "<h2>Follow the Journey</h2>\n",
      "<div class=\"social_icons\">\n",
      "<!-- AddThis Button BEGIN -->\n",
      "<div class=\"addthis_toolbox addthis_default_style addthis_32x32_style\"><a addthis:userid=\"NASABeAMartian\" class=\"addthis_button_twitter_follow icon\">\n",
      "<img alt=\"twitter\" src=\"/assets/twitter_icon@2x.png\"/>\n",
      "</a><a addthis:userid=\"NASABEAM\" class=\"addthis_button_facebook_follow icon\">\n",
      "<img alt=\"facebook\" src=\"/assets/facebook_icon@2x.png\"/>\n",
      "</a><a addthis:userid=\"nasa\" class=\"addthis_button_instagram_follow icon\">\n",
      "<img alt=\"instagram\" src=\"/assets/instagram_icon@2x.png\"/>\n",
      "</a><a addthis:url=\"https://mars.nasa.gov/rss/api/?feed=news&amp;category=all&amp;feedtype=rss\" class=\"addthis_button_rss_follow icon\">\n",
      "<img alt=\"rss\" src=\"/assets/rss_icon@2x.png\"/>\n",
      "</a></div>\n",
      "<script>\n",
      "  addthis_loader.init(\"//s7.addthis.com/js/300/addthis_widget.js#pubid=ra-5a690e4c1320e328\", {follow: true})\n",
      "</script>\n",
      "<!-- AddThis Button END -->\n",
      "</div>\n",
      "</div>\n",
      "<div class=\"gradient_line\"></div>\n",
      "</section>\n",
      "<section class=\"sitemap\">\n",
      "<div class=\"sitemap_directory\" id=\"sitemap_directory\">\n",
      "<div class=\"sitemap_block\">\n",
      "<div class=\"footer_sitemap_item\">\n",
      "<h3 class=\"sitemap_title\">\n",
      "<a href=\"/#red_planet\">The Red Planet</a>\n",
      "</h3>\n",
      "<ul><li>\n",
      "<div class=\"global_subnav_container\">\n",
      "<ul class=\"subnav\">\n",
      "<li>\n",
      "<a href=\"/#red_planet/0\" target=\"_self\">Dashboard</a>\n",
      "</li>\n",
      "<li>\n",
      "<a href=\"/#red_planet/1\" target=\"_self\">Science Goals</a>\n",
      "</li>\n",
      "<li>\n",
      "<a href=\"/#red_planet/2\" target=\"_self\">The Planet</a>\n",
      "</li>\n",
      "<li>\n",
      "<a href=\"/#red_planet/3\" target=\"_self\">Atmosphere</a>\n",
      "</li>\n",
      "<li>\n",
      "<a href=\"/#red_planet/4\" target=\"_self\">Astrobiology</a>\n",
      "</li>\n",
      "<li>\n",
      "<a href=\"/#red_planet/5\" target=\"_self\">Past, Present, Future, Timeline</a>\n",
      "</li>\n",
      "</ul>\n",
      "</div>\n",
      "</li></ul>\n",
      "</div>\n",
      "</div>\n",
      "<div class=\"sitemap_block\">\n",
      "<div class=\"footer_sitemap_item\">\n",
      "<h3 class=\"sitemap_title\">\n",
      "<a href=\"/#mars_exploration_program\">The Program</a>\n",
      "</h3>\n",
      "<ul><li>\n",
      "<div class=\"global_subnav_container\">\n",
      "<ul class=\"subnav\">\n",
      "<li>\n",
      "<a href=\"/#mars_exploration_program/0\" target=\"_self\">Mission Statement</a>\n",
      "</li>\n",
      "<li>\n",
      "<a href=\"/#mars_exploration_program/1\" target=\"_self\">About the Program</a>\n",
      "</li>\n",
      "<li>\n",
      "<a href=\"/#mars_exploration_program/2\" target=\"_self\">Organization</a>\n",
      "</li>\n",
      "<li>\n",
      "<a href=\"/#mars_exploration_program/3\" target=\"_self\">Why Mars?</a>\n",
      "</li>\n",
      "<li>\n",
      "<a href=\"/#mars_exploration_program/4\" target=\"_self\">Research Programs</a>\n",
      "</li>\n",
      "<li>\n",
      "<a href=\"/#mars_exploration_program/5\" target=\"_self\">Planetary Resources</a>\n",
      "</li>\n",
      "<li>\n",
      "<a href=\"/#mars_exploration_program/6\" target=\"_self\">Technologies</a>\n",
      "</li>\n",
      "</ul>\n",
      "</div>\n",
      "</li></ul>\n",
      "</div>\n",
      "</div>\n",
      "<div class=\"sitemap_block\">\n",
      "<div class=\"footer_sitemap_item\">\n",
      "<h3 class=\"sitemap_title\">\n",
      "<a href=\"/#news_and_events\">News &amp; Events</a>\n",
      "</h3>\n",
      "<ul><li>\n",
      "<div class=\"global_subnav_container\">\n",
      "<ul class=\"subnav\">\n",
      "<li class=\"current\">\n",
      "<a href=\"/news\" target=\"_self\">News</a>\n",
      "</li>\n",
      "<li>\n",
      "<a href=\"/events\" target=\"_self\">Events</a>\n",
      "</li>\n",
      "</ul>\n",
      "</div>\n",
      "</li></ul>\n",
      "</div>\n",
      "</div>\n",
      "<div class=\"sitemap_block\">\n",
      "<div class=\"footer_sitemap_item\">\n",
      "<h3 class=\"sitemap_title\">\n",
      "<a href=\"/#multimedia\">Multimedia</a>\n",
      "</h3>\n",
      "<ul><li>\n",
      "<div class=\"global_subnav_container\">\n",
      "<ul class=\"subnav\">\n",
      "<li>\n",
      "<a href=\"/multimedia/images/\" target=\"_self\">Images</a>\n",
      "</li>\n",
      "<li>\n",
      "<a href=\"/multimedia/videos/\" target=\"_self\">Videos</a>\n",
      "</li>\n",
      "</ul>\n",
      "</div>\n",
      "</li></ul>\n",
      "</div>\n",
      "</div>\n",
      "<div class=\"sitemap_block\">\n",
      "<div class=\"footer_sitemap_item\">\n",
      "<h3 class=\"sitemap_title\">\n",
      "<a href=\"/#missions\">Missions</a>\n",
      "</h3>\n",
      "<ul><li>\n",
      "<div class=\"global_subnav_container\">\n",
      "<ul class=\"subnav\">\n",
      "<li>\n",
      "<a href=\"/mars-exploration/missions/?period=167\" target=\"_self\">Past</a>\n",
      "</li>\n",
      "<li>\n",
      "<a href=\"/mars-exploration/missions/?period=170\" target=\"_self\">Present</a>\n",
      "</li>\n",
      "<li>\n",
      "<a href=\"/mars-exploration/missions/?period=171\" target=\"_self\">Future</a>\n",
      "</li>\n",
      "<li>\n",
      "<a href=\"/mars-exploration/partners\" target=\"_self\">International Partners</a>\n",
      "</li>\n",
      "</ul>\n",
      "</div>\n",
      "</li></ul>\n",
      "</div>\n",
      "</div>\n",
      "<div class=\"sitemap_block\">\n",
      "<div class=\"footer_sitemap_item\">\n",
      "<h3 class=\"sitemap_title\">\n",
      "<a href=\"/#more\">More</a>\n",
      "</h3>\n",
      "<ul><li>\n",
      "<div class=\"global_subnav_container\">\n",
      "<ul class=\"subnav\">\n",
      "</ul>\n",
      "</div>\n",
      "</li></ul>\n",
      "</div>\n",
      "</div>\n",
      "<div class=\"sitemap_block\">\n",
      "<div class=\"footer_sitemap_item\">\n",
      "<h3 class=\"sitemap_title\">\n",
      "<a href=\"/legacy\">Legacy Site</a>\n",
      "</h3>\n",
      "<ul><li>\n",
      "<div class=\"global_subnav_container\">\n",
      "<ul class=\"subnav\">\n",
      "<li>\n",
      "<a class=\"\" href=\"/legacy\" target=\"_self\">Legacy Site</a>\n",
      "</li>\n",
      "</ul>\n",
      "</div>\n",
      "</li></ul>\n",
      "</div>\n",
      "</div>\n",
      "</div>\n",
      "<div class=\"gradient_line\"></div>\n",
      "</section>\n",
      "<section class=\"lower_footer\">\n",
      "<div class=\"nav_container\">\n",
      "<nav>\n",
      "<ul>\n",
      "<li>\n",
      "<a href=\"http://science.nasa.gov/\" target=\"_blank\">NASA Science Mission Directorate</a>\n",
      "</li>\n",
      "<li>\n",
      "<a href=\"https://www.jpl.nasa.gov/copyrights.php\" target=\"_blank\">Privacy</a>\n",
      "</li>\n",
      "<li>\n",
      "<a href=\"http://www.jpl.nasa.gov/imagepolicy/\" target=\"_blank\">Image Policy</a>\n",
      "</li>\n",
      "<li>\n",
      "<a href=\"https://mars.nasa.gov/feedback/\" target=\"_self\">Feedback</a>\n",
      "</li>\n",
      "<li>\n",
      "<a href=\"http://mars.nasa.gov/legacy\" target=\"_blank\">Legacy Mars Site</a>\n",
      "</li>\n",
      "</ul>\n",
      "</nav>\n",
      "</div>\n",
      "<div class=\"credits\">\n",
      "<div class=\"footer_brands_top\">\n",
      "<p>Managed by the Mars Exploration Program and the Jet Propulsion Laboratory for NASA’s Science Mission Directorate</p>\n",
      "</div>\n",
      "<!-- .footer_brands -->\n",
      "<!-- %a.jpl{href: \"\", target: \"_blank\"}Institution -->\n",
      "<!-- -->\n",
      "<!-- %a.caltech{href: \"\", target: \"_blank\"}Institution -->\n",
      "<!-- .staff -->\n",
      "<!-- %p -->\n",
      "<!-- - get_staff_for_category(get_field_from_admin_config(:web_staff_category_id)) -->\n",
      "<!-- - @staff.each_with_index do |staff, idx| -->\n",
      "<!-- - unless staff.is_in_footer == 0 -->\n",
      "<!-- = staff.title + \": \" -->\n",
      "<!-- - if staff.contact_link =~ /@/ -->\n",
      "<!-- = mail_to staff.contact_link, staff.name, :subject => \"[#{@site_title}]\" -->\n",
      "<!-- - elsif staff.contact_link.present? -->\n",
      "<!-- = link_to staff.name, staff.contact_link -->\n",
      "<!-- - else -->\n",
      "<!-- = staff.name -->\n",
      "<!-- - unless (idx + 1 == @staff.size) -->\n",
      "<!-- %br -->\n",
      "</div>\n",
      "</section>\n",
      "</div>]\n"
     ]
    }
   ],
   "source": [
    "url = \"https://mars.nasa.gov/news/\"\n",
    "\n",
    "response = requests.get(url)\n",
    "soup = BS(response.text, 'html.parser')\n",
    "\n",
    "result = soup.find_all('div', class_='grid_layout')\n",
    "#result = soup.find('ul', class_='item_list')\n",
    "\n",
    "print(result)"
   ]
  },
  {
   "cell_type": "code",
   "execution_count": 3,
   "metadata": {
    "scrolled": true
   },
   "outputs": [
    {
     "name": "stdout",
     "output_type": "stream",
     "text": [
      "[<div class=\"content_title\">\n",
      "<a href=\"/news/8310/5000-days-on-mars-solar-powered-rover-approaching-5000th-martian-dawn/\">\n",
      "5,000 Days on Mars; Solar-Powered Rover Approaching 5,000th Martian Dawn\n",
      "</a>\n",
      "</div>, <div class=\"content_title\">\n",
      "<a href=\"/news/8309/long-lived-mars-rover-opportunity-keeps-finding-surprises/\">\n",
      "Long-Lived Mars Rover Opportunity Keeps Finding Surprises\n",
      "</a>\n",
      "</div>, <div class=\"content_title\">\n",
      "<a href=\"/news/8308/a-piece-of-mars-is-going-home/\">\n",
      "A Piece of Mars is Going Home\n",
      "</a>\n",
      "</div>, <div class=\"content_title\">\n",
      "<a href=\"/news/8307/mars-reconnaissance-orbiter-preparing-for-years-ahead/\">\n",
      "Mars Reconnaissance Orbiter Preparing for Years Ahead\n",
      "</a>\n",
      "</div>, <div class=\"content_title\">\n",
      "<a href=\"/news/8305/tiny-crystal-shapes-get-close-look-from-mars-rover/\">\n",
      "Tiny Crystal Shapes Get Close Look From Mars Rover\n",
      "</a>\n",
      "</div>, <div class=\"content_title\">\n",
      "<a href=\"/news/8304/nasa-tests-atomic-clock-for-deep-space-navigation/\">\n",
      "NASA Tests Atomic Clock for Deep Space Navigation\n",
      "</a>\n",
      "</div>]\n"
     ]
    }
   ],
   "source": [
    "titl = []\n",
    "\n",
    "for x in result:\n",
    "    titl.append(x.find_all('div', class_='content_title'))\n",
    "    #title = titl.a.text\n",
    "    \n",
    "print(titl[0])"
   ]
  },
  {
   "cell_type": "code",
   "execution_count": 4,
   "metadata": {},
   "outputs": [
    {
     "ename": "AttributeError",
     "evalue": "ResultSet object has no attribute 'find'. You're probably treating a list of items like a single item. Did you call find_all() when you meant to call find()?",
     "output_type": "error",
     "traceback": [
      "\u001b[1;31m---------------------------------------------------------------------------\u001b[0m",
      "\u001b[1;31mAttributeError\u001b[0m                            Traceback (most recent call last)",
      "\u001b[1;32m<ipython-input-4-b30c4fe746da>\u001b[0m in \u001b[0;36m<module>\u001b[1;34m()\u001b[0m\n\u001b[0;32m      1\u001b[0m \u001b[0mtitle\u001b[0m \u001b[1;33m=\u001b[0m \u001b[1;33m[\u001b[0m\u001b[1;33m]\u001b[0m\u001b[1;33m\u001b[0m\u001b[0m\n\u001b[0;32m      2\u001b[0m \u001b[1;32mfor\u001b[0m \u001b[0mx\u001b[0m \u001b[1;32min\u001b[0m \u001b[0mtitl\u001b[0m\u001b[1;33m:\u001b[0m\u001b[1;33m\u001b[0m\u001b[0m\n\u001b[1;32m----> 3\u001b[1;33m     \u001b[0mtitle\u001b[0m\u001b[1;33m.\u001b[0m\u001b[0mappend\u001b[0m\u001b[1;33m(\u001b[0m\u001b[0mx\u001b[0m\u001b[1;33m.\u001b[0m\u001b[0mfind\u001b[0m\u001b[1;33m(\u001b[0m\u001b[1;34m'div'\u001b[0m\u001b[1;33m,\u001b[0m \u001b[0mclass_\u001b[0m\u001b[1;33m=\u001b[0m\u001b[1;34m'content_title'\u001b[0m\u001b[1;33m)\u001b[0m\u001b[1;33m)\u001b[0m\u001b[1;33m\u001b[0m\u001b[0m\n\u001b[0m\u001b[0;32m      4\u001b[0m \u001b[1;33m\u001b[0m\u001b[0m\n\u001b[0;32m      5\u001b[0m \u001b[0mprint\u001b[0m\u001b[1;33m(\u001b[0m\u001b[0mtitle\u001b[0m\u001b[1;33m)\u001b[0m\u001b[1;33m\u001b[0m\u001b[0m\n",
      "\u001b[1;32m~\\Anaconda3\\envs\\PythonData\\lib\\site-packages\\bs4\\element.py\u001b[0m in \u001b[0;36m__getattr__\u001b[1;34m(self, key)\u001b[0m\n\u001b[0;32m   1805\u001b[0m     \u001b[1;32mdef\u001b[0m \u001b[0m__getattr__\u001b[0m\u001b[1;33m(\u001b[0m\u001b[0mself\u001b[0m\u001b[1;33m,\u001b[0m \u001b[0mkey\u001b[0m\u001b[1;33m)\u001b[0m\u001b[1;33m:\u001b[0m\u001b[1;33m\u001b[0m\u001b[0m\n\u001b[0;32m   1806\u001b[0m         raise AttributeError(\n\u001b[1;32m-> 1807\u001b[1;33m             \u001b[1;34m\"ResultSet object has no attribute '%s'. You're probably treating a list of items like a single item. Did you call find_all() when you meant to call find()?\"\u001b[0m \u001b[1;33m%\u001b[0m \u001b[0mkey\u001b[0m\u001b[1;33m\u001b[0m\u001b[0m\n\u001b[0m\u001b[0;32m   1808\u001b[0m         )\n",
      "\u001b[1;31mAttributeError\u001b[0m: ResultSet object has no attribute 'find'. You're probably treating a list of items like a single item. Did you call find_all() when you meant to call find()?"
     ]
    }
   ],
   "source": [
    "title = []\n",
    "for x in titl:\n",
    "    title.append(x.find('div', class_='content_title'))\n",
    "\n",
    "print(title)"
   ]
  },
  {
   "cell_type": "code",
   "execution_count": 8,
   "metadata": {},
   "outputs": [
    {
     "name": "stdout",
     "output_type": "stream",
     "text": [
      "<a addthis:userid=\"NASABeAMartian\" class=\"addthis_button_twitter_follow icon\">\n",
      "<img alt=\"twitter\" src=\"/assets/twitter_icon@2x.png\"/>\n",
      "</a>\n",
      "None\n"
     ]
    }
   ],
   "source": [
    "for x in result:\n",
    "    title = x.find('a')\n",
    "    paragraph = x.find('div', class_='article_teaser_body')\n",
    "    \n",
    "print(title)\n",
    "print(paragraph)"
   ]
  },
  {
   "cell_type": "code",
   "execution_count": 44,
   "metadata": {},
   "outputs": [
    {
     "name": "stdout",
     "output_type": "stream",
     "text": [
      "[]\n"
     ]
    }
   ],
   "source": [
    "url = \"https://www.jpl.nasa.gov/spaceimages/?search=&category=Mars\"\n",
    "\n",
    "response = requests.get(url)\n",
    "soup = BS(response.text, 'html.parser')\n",
    "\n",
    "result = soup.find_all('div', class_='list_text')\n",
    "\n",
    "print(result)"
   ]
  },
  {
   "cell_type": "markdown",
   "metadata": {},
   "source": [
    "-- JPL Mars Picture"
   ]
  },
  {
   "cell_type": "code",
   "execution_count": 22,
   "metadata": {},
   "outputs": [
    {
     "name": "stdout",
     "output_type": "stream",
     "text": [
      "{'alt': 'Sunrise on Saturn', 'class': ['carousel_item'], 'style': \"background-image: url('/spaceimages/images/wallpaper/PIA18289-1920x1200.jpg');\"}\n"
     ]
    }
   ],
   "source": [
    "url = 'https://www.jpl.nasa.gov/spaceimages/?search=&category=Mars'\n",
    "url_base = 'https://www.jpl.nasa.gov/'\n",
    "\n",
    "response = requests.get(url)\n",
    "soup = BS(response.text, 'html.parser')\n",
    "\n",
    "result = soup.find('article', class_='carousel_item').attrs\n",
    "\n",
    "print(result)"
   ]
  },
  {
   "cell_type": "code",
   "execution_count": 37,
   "metadata": {},
   "outputs": [
    {
     "name": "stdout",
     "output_type": "stream",
     "text": [
      "https://www.jpl.nasa.gov//spaceimages/images/wallpaper/PIA18289-1920x1200.jpg\n"
     ]
    }
   ],
   "source": [
    "style_prop = str(result['style'])\n",
    "trim1 = style_prop.replace(\"background-image:\", \"\")\n",
    "trim2 = trim1.replace(\" url('\", \"\")\n",
    "image = trim2.replace(\"');\", \"\")\n",
    "image_url = url_base + image\n",
    "print(image_url)"
   ]
  },
  {
   "cell_type": "markdown",
   "metadata": {},
   "source": [
    "-- Mars Twitter"
   ]
  },
  {
   "cell_type": "code",
   "execution_count": 38,
   "metadata": {},
   "outputs": [
    {
     "name": "stdout",
     "output_type": "stream",
     "text": [
      "<div class=\"js-tweet-text-container\">\n",
      "<p class=\"TweetTextSize TweetTextSize--normal js-tweet-text tweet-text\" data-aria-label-part=\"0\" lang=\"en\">Sol 1964 (Feb 14, 2018), Sunny, high -16C/3F, low -76C/-104F, pressure at 7.36 hPa, daylight 05:40-17:26</p>\n",
      "</div>\n"
     ]
    }
   ],
   "source": [
    "url = \"https://twitter.com/marswxreport?lang=en\"\n",
    "\n",
    "response = requests.get(url)\n",
    "soup = BS(response.text, 'html.parser')\n",
    "\n",
    "result = soup.find('div', class_=\"js-tweet-text-container\")\n",
    "\n",
    "print(result)"
   ]
  },
  {
   "cell_type": "code",
   "execution_count": 40,
   "metadata": {},
   "outputs": [
    {
     "name": "stdout",
     "output_type": "stream",
     "text": [
      "Sol 1964 (Feb 14, 2018), Sunny, high -16C/3F, low -76C/-104F, pressure at 7.36 hPa, daylight 05:40-17:26\n"
     ]
    }
   ],
   "source": [
    "text = result.p.text\n",
    "print(text)"
   ]
  },
  {
   "cell_type": "markdown",
   "metadata": {},
   "source": [
    "-- Mars Facts"
   ]
  },
  {
   "cell_type": "code",
   "execution_count": 52,
   "metadata": {},
   "outputs": [
    {
     "name": "stdout",
     "output_type": "stream",
     "text": [
      "[                      0                              1\n",
      "0  Equatorial Diameter:                       6,792 km\n",
      "1       Polar Diameter:                       6,752 km\n",
      "2                 Mass:  6.42 x 10^23 kg (10.7% Earth)\n",
      "3                Moons:            2 (Phobos & Deimos)\n",
      "4       Orbit Distance:       227,943,824 km (1.52 AU)\n",
      "5         Orbit Period:           687 days (1.9 years)\n",
      "6  Surface Temperature:                  -153 to 20 °C\n",
      "7         First Record:              2nd millennium BC\n",
      "8          Recorded By:           Egyptian astronomers]\n"
     ]
    }
   ],
   "source": [
    "import pandas as pd\n",
    "\n",
    "url = \"https://space-facts.com/mars/\"\n",
    "\n",
    "table = pd.read_html(url)\n",
    "\n",
    "print(table)"
   ]
  },
  {
   "cell_type": "code",
   "execution_count": 53,
   "metadata": {},
   "outputs": [
    {
     "data": {
      "text/html": [
       "<div>\n",
       "<style>\n",
       "    .dataframe thead tr:only-child th {\n",
       "        text-align: right;\n",
       "    }\n",
       "\n",
       "    .dataframe thead th {\n",
       "        text-align: left;\n",
       "    }\n",
       "\n",
       "    .dataframe tbody tr th {\n",
       "        vertical-align: top;\n",
       "    }\n",
       "</style>\n",
       "<table border=\"1\" class=\"dataframe\">\n",
       "  <thead>\n",
       "    <tr style=\"text-align: right;\">\n",
       "      <th></th>\n",
       "      <th></th>\n",
       "    </tr>\n",
       "    <tr>\n",
       "      <th></th>\n",
       "      <th></th>\n",
       "    </tr>\n",
       "  </thead>\n",
       "  <tbody>\n",
       "    <tr>\n",
       "      <th>Equatorial Diameter:</th>\n",
       "      <td>6,792 km</td>\n",
       "    </tr>\n",
       "    <tr>\n",
       "      <th>Polar Diameter:</th>\n",
       "      <td>6,752 km</td>\n",
       "    </tr>\n",
       "    <tr>\n",
       "      <th>Mass:</th>\n",
       "      <td>6.42 x 10^23 kg (10.7% Earth)</td>\n",
       "    </tr>\n",
       "    <tr>\n",
       "      <th>Moons:</th>\n",
       "      <td>2 (Phobos &amp; Deimos)</td>\n",
       "    </tr>\n",
       "    <tr>\n",
       "      <th>Orbit Distance:</th>\n",
       "      <td>227,943,824 km (1.52 AU)</td>\n",
       "    </tr>\n",
       "    <tr>\n",
       "      <th>Orbit Period:</th>\n",
       "      <td>687 days (1.9 years)</td>\n",
       "    </tr>\n",
       "    <tr>\n",
       "      <th>Surface Temperature:</th>\n",
       "      <td>-153 to 20 °C</td>\n",
       "    </tr>\n",
       "    <tr>\n",
       "      <th>First Record:</th>\n",
       "      <td>2nd millennium BC</td>\n",
       "    </tr>\n",
       "    <tr>\n",
       "      <th>Recorded By:</th>\n",
       "      <td>Egyptian astronomers</td>\n",
       "    </tr>\n",
       "  </tbody>\n",
       "</table>\n",
       "</div>"
      ],
      "text/plain": [
       "                                                   \n",
       "                                                   \n",
       "Equatorial Diameter:                       6,792 km\n",
       "Polar Diameter:                            6,752 km\n",
       "Mass:                 6.42 x 10^23 kg (10.7% Earth)\n",
       "Moons:                          2 (Phobos & Deimos)\n",
       "Orbit Distance:            227,943,824 km (1.52 AU)\n",
       "Orbit Period:                  687 days (1.9 years)\n",
       "Surface Temperature:                  -153 to 20 °C\n",
       "First Record:                     2nd millennium BC\n",
       "Recorded By:                   Egyptian astronomers"
      ]
     },
     "execution_count": 53,
     "metadata": {},
     "output_type": "execute_result"
    }
   ],
   "source": [
    "grid = table[0]\n",
    "grid.columns = [\"index\", \"\"]\n",
    "grid.set_index('index', inplace=True)\n",
    "grid.index.names = ['']\n",
    "grid.head(10)"
   ]
  },
  {
   "cell_type": "markdown",
   "metadata": {},
   "source": [
    "-- Mars Hemispheres"
   ]
  },
  {
   "cell_type": "code",
   "execution_count": 71,
   "metadata": {},
   "outputs": [
    {
     "ename": "WebDriverException",
     "evalue": "Message: unknown error: Element <a href=\"/search/map/Mars/Viking/cerberus_enhanced\" class=\"itemLink product-item\">...</a> is not clickable at point (48, 228). Other element would receive the click: <div class=\"item\">...</div>\n  (Session info: chrome=64.0.3282.167)\n  (Driver info: chromedriver=2.32.498550 (9dec58e66c31bcc53a9ce3c7226f0c1c5810906a),platform=Windows NT 10.0.16299 x86_64)\n",
     "output_type": "error",
     "traceback": [
      "\u001b[1;31m---------------------------------------------------------------------------\u001b[0m",
      "\u001b[1;31mWebDriverException\u001b[0m                        Traceback (most recent call last)",
      "\u001b[1;32m<ipython-input-71-a8de12b44b01>\u001b[0m in \u001b[0;36m<module>\u001b[1;34m()\u001b[0m\n\u001b[0;32m     16\u001b[0m     \u001b[0mtime\u001b[0m\u001b[1;33m.\u001b[0m\u001b[0msleep\u001b[0m\u001b[1;33m(\u001b[0m\u001b[1;36m5\u001b[0m\u001b[1;33m)\u001b[0m\u001b[1;33m\u001b[0m\u001b[0m\n\u001b[0;32m     17\u001b[0m \u001b[1;33m\u001b[0m\u001b[0m\n\u001b[1;32m---> 18\u001b[1;33m     \u001b[0mbrowser\u001b[0m\u001b[1;33m.\u001b[0m\u001b[0mclick_link_by_href\u001b[0m\u001b[1;33m(\u001b[0m\u001b[0mname\u001b[0m\u001b[1;33m)\u001b[0m\u001b[1;33m\u001b[0m\u001b[0m\n\u001b[0m\u001b[0;32m     19\u001b[0m \u001b[1;33m\u001b[0m\u001b[0m\n\u001b[0;32m     20\u001b[0m     \u001b[0mtime\u001b[0m\u001b[1;33m.\u001b[0m\u001b[0msleep\u001b[0m\u001b[1;33m(\u001b[0m\u001b[1;36m5\u001b[0m\u001b[1;33m)\u001b[0m\u001b[1;33m\u001b[0m\u001b[0m\n",
      "\u001b[1;32m~\\Anaconda3\\envs\\PythonData\\lib\\site-packages\\splinter\\driver\\__init__.py\u001b[0m in \u001b[0;36mclick_link_by_href\u001b[1;34m(self, href)\u001b[0m\n\u001b[0;32m    313\u001b[0m         \u001b[0mClicks\u001b[0m \u001b[1;32min\u001b[0m \u001b[0ma\u001b[0m \u001b[0mlink\u001b[0m \u001b[0mby\u001b[0m \u001b[0mits\u001b[0m\u001b[0;31m \u001b[0m\u001b[0;31m`\u001b[0m\u001b[0;31m`\u001b[0m\u001b[0mhref\u001b[0m\u001b[0;31m`\u001b[0m\u001b[0;31m`\u001b[0m \u001b[0mattribute\u001b[0m\u001b[1;33m.\u001b[0m\u001b[1;33m\u001b[0m\u001b[0m\n\u001b[0;32m    314\u001b[0m         \"\"\"\n\u001b[1;32m--> 315\u001b[1;33m         \u001b[1;32mreturn\u001b[0m \u001b[0mself\u001b[0m\u001b[1;33m.\u001b[0m\u001b[0mfind_link_by_href\u001b[0m\u001b[1;33m(\u001b[0m\u001b[0mhref\u001b[0m\u001b[1;33m)\u001b[0m\u001b[1;33m.\u001b[0m\u001b[0mfirst\u001b[0m\u001b[1;33m.\u001b[0m\u001b[0mclick\u001b[0m\u001b[1;33m(\u001b[0m\u001b[1;33m)\u001b[0m\u001b[1;33m\u001b[0m\u001b[0m\n\u001b[0m\u001b[0;32m    316\u001b[0m \u001b[1;33m\u001b[0m\u001b[0m\n\u001b[0;32m    317\u001b[0m     \u001b[1;32mdef\u001b[0m \u001b[0mclick_link_by_partial_href\u001b[0m\u001b[1;33m(\u001b[0m\u001b[0mself\u001b[0m\u001b[1;33m,\u001b[0m \u001b[0mpartial_href\u001b[0m\u001b[1;33m)\u001b[0m\u001b[1;33m:\u001b[0m\u001b[1;33m\u001b[0m\u001b[0m\n",
      "\u001b[1;32m~\\Anaconda3\\envs\\PythonData\\lib\\site-packages\\splinter\\driver\\webdriver\\__init__.py\u001b[0m in \u001b[0;36mclick\u001b[1;34m(self)\u001b[0m\n\u001b[0;32m    561\u001b[0m \u001b[1;33m\u001b[0m\u001b[0m\n\u001b[0;32m    562\u001b[0m     \u001b[1;32mdef\u001b[0m \u001b[0mclick\u001b[0m\u001b[1;33m(\u001b[0m\u001b[0mself\u001b[0m\u001b[1;33m)\u001b[0m\u001b[1;33m:\u001b[0m\u001b[1;33m\u001b[0m\u001b[0m\n\u001b[1;32m--> 563\u001b[1;33m         \u001b[0mself\u001b[0m\u001b[1;33m.\u001b[0m\u001b[0m_element\u001b[0m\u001b[1;33m.\u001b[0m\u001b[0mclick\u001b[0m\u001b[1;33m(\u001b[0m\u001b[1;33m)\u001b[0m\u001b[1;33m\u001b[0m\u001b[0m\n\u001b[0m\u001b[0;32m    564\u001b[0m \u001b[1;33m\u001b[0m\u001b[0m\n\u001b[0;32m    565\u001b[0m     \u001b[1;32mdef\u001b[0m \u001b[0mcheck\u001b[0m\u001b[1;33m(\u001b[0m\u001b[0mself\u001b[0m\u001b[1;33m)\u001b[0m\u001b[1;33m:\u001b[0m\u001b[1;33m\u001b[0m\u001b[0m\n",
      "\u001b[1;32m~\\Anaconda3\\envs\\PythonData\\lib\\site-packages\\selenium\\webdriver\\remote\\webelement.py\u001b[0m in \u001b[0;36mclick\u001b[1;34m(self)\u001b[0m\n\u001b[0;32m     78\u001b[0m     \u001b[1;32mdef\u001b[0m \u001b[0mclick\u001b[0m\u001b[1;33m(\u001b[0m\u001b[0mself\u001b[0m\u001b[1;33m)\u001b[0m\u001b[1;33m:\u001b[0m\u001b[1;33m\u001b[0m\u001b[0m\n\u001b[0;32m     79\u001b[0m         \u001b[1;34m\"\"\"Clicks the element.\"\"\"\u001b[0m\u001b[1;33m\u001b[0m\u001b[0m\n\u001b[1;32m---> 80\u001b[1;33m         \u001b[0mself\u001b[0m\u001b[1;33m.\u001b[0m\u001b[0m_execute\u001b[0m\u001b[1;33m(\u001b[0m\u001b[0mCommand\u001b[0m\u001b[1;33m.\u001b[0m\u001b[0mCLICK_ELEMENT\u001b[0m\u001b[1;33m)\u001b[0m\u001b[1;33m\u001b[0m\u001b[0m\n\u001b[0m\u001b[0;32m     81\u001b[0m \u001b[1;33m\u001b[0m\u001b[0m\n\u001b[0;32m     82\u001b[0m     \u001b[1;32mdef\u001b[0m \u001b[0msubmit\u001b[0m\u001b[1;33m(\u001b[0m\u001b[0mself\u001b[0m\u001b[1;33m)\u001b[0m\u001b[1;33m:\u001b[0m\u001b[1;33m\u001b[0m\u001b[0m\n",
      "\u001b[1;32m~\\Anaconda3\\envs\\PythonData\\lib\\site-packages\\selenium\\webdriver\\remote\\webelement.py\u001b[0m in \u001b[0;36m_execute\u001b[1;34m(self, command, params)\u001b[0m\n\u001b[0;32m    626\u001b[0m             \u001b[0mparams\u001b[0m \u001b[1;33m=\u001b[0m \u001b[1;33m{\u001b[0m\u001b[1;33m}\u001b[0m\u001b[1;33m\u001b[0m\u001b[0m\n\u001b[0;32m    627\u001b[0m         \u001b[0mparams\u001b[0m\u001b[1;33m[\u001b[0m\u001b[1;34m'id'\u001b[0m\u001b[1;33m]\u001b[0m \u001b[1;33m=\u001b[0m \u001b[0mself\u001b[0m\u001b[1;33m.\u001b[0m\u001b[0m_id\u001b[0m\u001b[1;33m\u001b[0m\u001b[0m\n\u001b[1;32m--> 628\u001b[1;33m         \u001b[1;32mreturn\u001b[0m \u001b[0mself\u001b[0m\u001b[1;33m.\u001b[0m\u001b[0m_parent\u001b[0m\u001b[1;33m.\u001b[0m\u001b[0mexecute\u001b[0m\u001b[1;33m(\u001b[0m\u001b[0mcommand\u001b[0m\u001b[1;33m,\u001b[0m \u001b[0mparams\u001b[0m\u001b[1;33m)\u001b[0m\u001b[1;33m\u001b[0m\u001b[0m\n\u001b[0m\u001b[0;32m    629\u001b[0m \u001b[1;33m\u001b[0m\u001b[0m\n\u001b[0;32m    630\u001b[0m     \u001b[1;32mdef\u001b[0m \u001b[0mfind_element\u001b[0m\u001b[1;33m(\u001b[0m\u001b[0mself\u001b[0m\u001b[1;33m,\u001b[0m \u001b[0mby\u001b[0m\u001b[1;33m=\u001b[0m\u001b[0mBy\u001b[0m\u001b[1;33m.\u001b[0m\u001b[0mID\u001b[0m\u001b[1;33m,\u001b[0m \u001b[0mvalue\u001b[0m\u001b[1;33m=\u001b[0m\u001b[1;32mNone\u001b[0m\u001b[1;33m)\u001b[0m\u001b[1;33m:\u001b[0m\u001b[1;33m\u001b[0m\u001b[0m\n",
      "\u001b[1;32m~\\Anaconda3\\envs\\PythonData\\lib\\site-packages\\selenium\\webdriver\\remote\\webdriver.py\u001b[0m in \u001b[0;36mexecute\u001b[1;34m(self, driver_command, params)\u001b[0m\n\u001b[0;32m    310\u001b[0m         \u001b[0mresponse\u001b[0m \u001b[1;33m=\u001b[0m \u001b[0mself\u001b[0m\u001b[1;33m.\u001b[0m\u001b[0mcommand_executor\u001b[0m\u001b[1;33m.\u001b[0m\u001b[0mexecute\u001b[0m\u001b[1;33m(\u001b[0m\u001b[0mdriver_command\u001b[0m\u001b[1;33m,\u001b[0m \u001b[0mparams\u001b[0m\u001b[1;33m)\u001b[0m\u001b[1;33m\u001b[0m\u001b[0m\n\u001b[0;32m    311\u001b[0m         \u001b[1;32mif\u001b[0m \u001b[0mresponse\u001b[0m\u001b[1;33m:\u001b[0m\u001b[1;33m\u001b[0m\u001b[0m\n\u001b[1;32m--> 312\u001b[1;33m             \u001b[0mself\u001b[0m\u001b[1;33m.\u001b[0m\u001b[0merror_handler\u001b[0m\u001b[1;33m.\u001b[0m\u001b[0mcheck_response\u001b[0m\u001b[1;33m(\u001b[0m\u001b[0mresponse\u001b[0m\u001b[1;33m)\u001b[0m\u001b[1;33m\u001b[0m\u001b[0m\n\u001b[0m\u001b[0;32m    313\u001b[0m             response['value'] = self._unwrap_value(\n\u001b[0;32m    314\u001b[0m                 response.get('value', None))\n",
      "\u001b[1;32m~\\Anaconda3\\envs\\PythonData\\lib\\site-packages\\selenium\\webdriver\\remote\\errorhandler.py\u001b[0m in \u001b[0;36mcheck_response\u001b[1;34m(self, response)\u001b[0m\n\u001b[0;32m    240\u001b[0m                 \u001b[0malert_text\u001b[0m \u001b[1;33m=\u001b[0m \u001b[0mvalue\u001b[0m\u001b[1;33m[\u001b[0m\u001b[1;34m'alert'\u001b[0m\u001b[1;33m]\u001b[0m\u001b[1;33m.\u001b[0m\u001b[0mget\u001b[0m\u001b[1;33m(\u001b[0m\u001b[1;34m'text'\u001b[0m\u001b[1;33m)\u001b[0m\u001b[1;33m\u001b[0m\u001b[0m\n\u001b[0;32m    241\u001b[0m             \u001b[1;32mraise\u001b[0m \u001b[0mexception_class\u001b[0m\u001b[1;33m(\u001b[0m\u001b[0mmessage\u001b[0m\u001b[1;33m,\u001b[0m \u001b[0mscreen\u001b[0m\u001b[1;33m,\u001b[0m \u001b[0mstacktrace\u001b[0m\u001b[1;33m,\u001b[0m \u001b[0malert_text\u001b[0m\u001b[1;33m)\u001b[0m\u001b[1;33m\u001b[0m\u001b[0m\n\u001b[1;32m--> 242\u001b[1;33m         \u001b[1;32mraise\u001b[0m \u001b[0mexception_class\u001b[0m\u001b[1;33m(\u001b[0m\u001b[0mmessage\u001b[0m\u001b[1;33m,\u001b[0m \u001b[0mscreen\u001b[0m\u001b[1;33m,\u001b[0m \u001b[0mstacktrace\u001b[0m\u001b[1;33m)\u001b[0m\u001b[1;33m\u001b[0m\u001b[0m\n\u001b[0m\u001b[0;32m    243\u001b[0m \u001b[1;33m\u001b[0m\u001b[0m\n\u001b[0;32m    244\u001b[0m     \u001b[1;32mdef\u001b[0m \u001b[0m_value_or_default\u001b[0m\u001b[1;33m(\u001b[0m\u001b[0mself\u001b[0m\u001b[1;33m,\u001b[0m \u001b[0mobj\u001b[0m\u001b[1;33m,\u001b[0m \u001b[0mkey\u001b[0m\u001b[1;33m,\u001b[0m \u001b[0mdefault\u001b[0m\u001b[1;33m)\u001b[0m\u001b[1;33m:\u001b[0m\u001b[1;33m\u001b[0m\u001b[0m\n",
      "\u001b[1;31mWebDriverException\u001b[0m: Message: unknown error: Element <a href=\"/search/map/Mars/Viking/cerberus_enhanced\" class=\"itemLink product-item\">...</a> is not clickable at point (48, 228). Other element would receive the click: <div class=\"item\">...</div>\n  (Session info: chrome=64.0.3282.167)\n  (Driver info: chromedriver=2.32.498550 (9dec58e66c31bcc53a9ce3c7226f0c1c5810906a),platform=Windows NT 10.0.16299 x86_64)\n"
     ]
    }
   ],
   "source": [
    "from splinter import Browser\n",
    "import time\n",
    "\n",
    "url = \"https://astrogeology.usgs.gov/search/results?q=hemisphere+enhanced&k1=target&v1=Mars\"\n",
    "url_base = \"https://astrogeology.usgs.gov/\"\n",
    "\n",
    "browser = Browser('chrome', headless=False)\n",
    "browser.visit(url)\n",
    "\n",
    "soup = BS(browser.html, 'html.parser')\n",
    "result = soup.find_all('div', class_=\"item\")\n",
    "\n",
    "#name_list = [\"/search/map/Mars/Viking/cerberus_enhanced\", \"/search/map/Mars/Viking/schiaparelli_enhanced\", \n",
    "           #  \"/search/map/Mars/Viking/syrtis_major_enhanced\", \"/search/map/Mars/Viking/valles_marineris_enhanced\"]\n",
    "\n",
    "images_list = []\n",
    "\n",
    "for name in name_list:\n",
    "    browser = Browser('chrome', headless=False)\n",
    "    browser.visit(url)\n",
    "    \n",
    "    time.sleep(5)\n",
    "    \n",
    "    browser.click_link_by_href(name)\n",
    "    \n",
    "    time.sleep(5)\n",
    "    \n",
    "    soup = BS(browser.html, 'html.parser')\n",
    "    result = soup.find('img', class_=\"wide-image\")\n",
    "    \n",
    "    image = url_base + result[\"src\"]\n",
    "    images_list.append(image)\n",
    "    \n",
    "    time.sleep(5)\n",
    "    \n",
    "print(images_list)"
   ]
  },
  {
   "cell_type": "code",
   "execution_count": 10,
   "metadata": {},
   "outputs": [
    {
     "name": "stdout",
     "output_type": "stream",
     "text": [
      "[<div class=\"collapsible results\">\n",
      "<div class=\"item\"><a class=\"itemLink product-item\" href=\"/search/map/Mars/Viking/cerberus_enhanced\"><img alt=\"Cerberus Hemisphere Enhanced thumbnail\" class=\"thumb\" src=\"/cache/images/dfaf3849e74bf973b59eb50dab52b583_cerberus_enhanced.tif_thumb.png\"/></a><div class=\"description\"><a class=\"itemLink product-item\" href=\"/search/map/Mars/Viking/cerberus_enhanced\"><h3>Cerberus Hemisphere Enhanced</h3></a><span class=\"subtitle\" style=\"float:left\">image/tiff 21 MB</span><span class=\"pubDate\" style=\"float:right\"></span><br/><p>Mosaic of the Cerberus hemisphere of Mars projected into point perspective, a view similar to that which one would see from a spacecraft. This mosaic is composed of 104 Viking Orbiter images acquired…</p></div> <!-- end description --></div><div class=\"item\"><a class=\"itemLink product-item\" href=\"/search/map/Mars/Viking/schiaparelli_enhanced\"><img alt=\"Schiaparelli Hemisphere Enhanced thumbnail\" class=\"thumb\" src=\"/cache/images/7677c0a006b83871b5a2f66985ab5857_schiaparelli_enhanced.tif_thumb.png\"/></a><div class=\"description\"><a class=\"itemLink product-item\" href=\"/search/map/Mars/Viking/schiaparelli_enhanced\"><h3>Schiaparelli Hemisphere Enhanced</h3></a><span class=\"subtitle\" style=\"float:left\">image/tiff 35 MB</span><span class=\"pubDate\" style=\"float:right\"></span><br/><p>Mosaic of the Schiaparelli hemisphere of Mars projected into point perspective, a view similar to that which one would see from a spacecraft. The images were acquired in 1980 during early northern…</p></div> <!-- end description --></div><div class=\"item\"><a class=\"itemLink product-item\" href=\"/search/map/Mars/Viking/syrtis_major_enhanced\"><img alt=\"Syrtis Major Hemisphere Enhanced thumbnail\" class=\"thumb\" src=\"/cache/images/aae41197e40d6d4f3ea557f8cfe51d15_syrtis_major_enhanced.tif_thumb.png\"/></a><div class=\"description\"><a class=\"itemLink product-item\" href=\"/search/map/Mars/Viking/syrtis_major_enhanced\"><h3>Syrtis Major Hemisphere Enhanced</h3></a><span class=\"subtitle\" style=\"float:left\">image/tiff 25 MB</span><span class=\"pubDate\" style=\"float:right\"></span><br/><p>Mosaic of the Syrtis Major hemisphere of Mars projected into point perspective, a view similar to that which one would see from a spacecraft. This mosaic is composed of about 100 red and violet…</p></div> <!-- end description --></div><div class=\"item\"><a class=\"itemLink product-item\" href=\"/search/map/Mars/Viking/valles_marineris_enhanced\"><img alt=\"Valles Marineris Hemisphere Enhanced thumbnail\" class=\"thumb\" src=\"/cache/images/04085d99ec3713883a9a57f42be9c725_valles_marineris_enhanced.tif_thumb.png\"/></a><div class=\"description\"><a class=\"itemLink product-item\" href=\"/search/map/Mars/Viking/valles_marineris_enhanced\"><h3>Valles Marineris Hemisphere Enhanced</h3></a><span class=\"subtitle\" style=\"float:left\">image/tiff 27 MB</span><span class=\"pubDate\" style=\"float:right\"></span><br/><p>Mosaic of the Valles Marineris hemisphere of Mars projected into point perspective, a view similar to that which one would see from a spacecraft. The distance is 2500 kilometers from the surface of…</p></div> <!-- end description --></div><script>addBases=[];;if(typeof resetLayerSwitcher===\"function\"){resetLayerSwitcher(false)};var productTotal = 4;</script>\n",
      "</div>]\n"
     ]
    }
   ],
   "source": [
    "from splinter import Browser\n",
    "from bs4 import BeautifulSoup as BS\n",
    "import time\n",
    "\n",
    "url = \"https://astrogeology.usgs.gov/search/results?q=hemisphere+enhanced&k1=target&v1=Mars\"\n",
    "url_base = \"https://astrogeology.usgs.gov/\"\n",
    "\n",
    "browser = Browser('chrome', headless=False)\n",
    "browser.visit(url)\n",
    "\n",
    "soup = BS(browser.html, 'html.parser')\n",
    "result = soup.find_all('div', class_=\"collapsible results\")\n",
    "\n",
    "print(result)\n"
   ]
  },
  {
   "cell_type": "code",
   "execution_count": 7,
   "metadata": {},
   "outputs": [
    {
     "ename": "AttributeError",
     "evalue": "ResultSet object has no attribute 'find'. You're probably treating a list of items like a single item. Did you call find_all() when you meant to call find()?",
     "output_type": "error",
     "traceback": [
      "\u001b[1;31m---------------------------------------------------------------------------\u001b[0m",
      "\u001b[1;31mAttributeError\u001b[0m                            Traceback (most recent call last)",
      "\u001b[1;32m<ipython-input-7-bfe7492f5589>\u001b[0m in \u001b[0;36m<module>\u001b[1;34m()\u001b[0m\n\u001b[1;32m----> 1\u001b[1;33m \u001b[0mprint\u001b[0m\u001b[1;33m(\u001b[0m\u001b[0mresult\u001b[0m\u001b[1;33m.\u001b[0m\u001b[0mfind\u001b[0m\u001b[1;33m(\u001b[0m\u001b[1;34m'a'\u001b[0m\u001b[1;33m)\u001b[0m\u001b[1;33m)\u001b[0m\u001b[1;33m\u001b[0m\u001b[0m\n\u001b[0m",
      "\u001b[1;32m~\\Anaconda3\\envs\\PythonData\\lib\\site-packages\\bs4\\element.py\u001b[0m in \u001b[0;36m__getattr__\u001b[1;34m(self, key)\u001b[0m\n\u001b[0;32m   1805\u001b[0m     \u001b[1;32mdef\u001b[0m \u001b[0m__getattr__\u001b[0m\u001b[1;33m(\u001b[0m\u001b[0mself\u001b[0m\u001b[1;33m,\u001b[0m \u001b[0mkey\u001b[0m\u001b[1;33m)\u001b[0m\u001b[1;33m:\u001b[0m\u001b[1;33m\u001b[0m\u001b[0m\n\u001b[0;32m   1806\u001b[0m         raise AttributeError(\n\u001b[1;32m-> 1807\u001b[1;33m             \u001b[1;34m\"ResultSet object has no attribute '%s'. You're probably treating a list of items like a single item. Did you call find_all() when you meant to call find()?\"\u001b[0m \u001b[1;33m%\u001b[0m \u001b[0mkey\u001b[0m\u001b[1;33m\u001b[0m\u001b[0m\n\u001b[0m\u001b[0;32m   1808\u001b[0m         )\n",
      "\u001b[1;31mAttributeError\u001b[0m: ResultSet object has no attribute 'find'. You're probably treating a list of items like a single item. Did you call find_all() when you meant to call find()?"
     ]
    }
   ],
   "source": [
    "print(result.find('a'))"
   ]
  },
  {
   "cell_type": "code",
   "execution_count": 67,
   "metadata": {},
   "outputs": [
    {
     "name": "stdout",
     "output_type": "stream",
     "text": [
      "https://astrogeology.usgs.gov//cache/images/cfa62af2557222a02478f1fcd781d445_cerberus_enhanced.tif_full.jpg\n"
     ]
    }
   ],
   "source": [
    "url = \"https://astrogeology.usgs.gov/search/map/Mars/Viking/cerberus_enhanced\"\n",
    "\n",
    "response = requests.get(url)\n",
    "soup = BS(response.text, 'html.parser')\n",
    "\n",
    "result = soup.find('img', class_=\"wide-image\")\n",
    "\n",
    "image = url_base + result[\"src\"]\n",
    "print(image)"
   ]
  },
  {
   "cell_type": "code",
   "execution_count": 65,
   "metadata": {},
   "outputs": [
    {
     "name": "stdout",
     "output_type": "stream",
     "text": [
      "/cache/images/cfa62af2557222a02478f1fcd781d445_cerberus_enhanced.tif_full.jpg\n"
     ]
    }
   ],
   "source": [
    "print(result[\"src\"])"
   ]
  },
  {
   "cell_type": "code",
   "execution_count": 63,
   "metadata": {},
   "outputs": [
    {
     "ename": "AttributeError",
     "evalue": "'NavigableString' object has no attribute 'find_all'",
     "output_type": "error",
     "traceback": [
      "\u001b[1;31m---------------------------------------------------------------------------\u001b[0m",
      "\u001b[1;31mAttributeError\u001b[0m                            Traceback (most recent call last)",
      "\u001b[1;32m<ipython-input-63-9a3ce33db3e7>\u001b[0m in \u001b[0;36m<module>\u001b[1;34m()\u001b[0m\n\u001b[0;32m      1\u001b[0m \u001b[1;32mfor\u001b[0m \u001b[0mx\u001b[0m \u001b[1;32min\u001b[0m \u001b[0mresult\u001b[0m\u001b[1;33m:\u001b[0m\u001b[1;33m\u001b[0m\u001b[0m\n\u001b[1;32m----> 2\u001b[1;33m     \u001b[0mtitle\u001b[0m \u001b[1;33m=\u001b[0m \u001b[0mx\u001b[0m\u001b[1;33m.\u001b[0m\u001b[0mfind_all\u001b[0m\u001b[1;33m(\u001b[0m\u001b[1;34m'img'\u001b[0m\u001b[1;33m,\u001b[0m \u001b[0mclass_\u001b[0m\u001b[1;33m=\u001b[0m\u001b[1;34m\"wide-image\"\u001b[0m\u001b[1;33m)\u001b[0m\u001b[1;33m.\u001b[0m\u001b[0mattrs\u001b[0m\u001b[1;33m\u001b[0m\u001b[0m\n\u001b[0m\u001b[0;32m      3\u001b[0m \u001b[0mprint\u001b[0m\u001b[1;33m(\u001b[0m\u001b[0mtitle\u001b[0m\u001b[1;33m)\u001b[0m\u001b[1;33m\u001b[0m\u001b[0m\n",
      "\u001b[1;32m~\\Anaconda3\\envs\\PythonData\\lib\\site-packages\\bs4\\element.py\u001b[0m in \u001b[0;36m__getattr__\u001b[1;34m(self, attr)\u001b[0m\n\u001b[0;32m    735\u001b[0m             raise AttributeError(\n\u001b[0;32m    736\u001b[0m                 \"'%s' object has no attribute '%s'\" % (\n\u001b[1;32m--> 737\u001b[1;33m                     self.__class__.__name__, attr))\n\u001b[0m\u001b[0;32m    738\u001b[0m \u001b[1;33m\u001b[0m\u001b[0m\n\u001b[0;32m    739\u001b[0m     \u001b[1;32mdef\u001b[0m \u001b[0moutput_ready\u001b[0m\u001b[1;33m(\u001b[0m\u001b[0mself\u001b[0m\u001b[1;33m,\u001b[0m \u001b[0mformatter\u001b[0m\u001b[1;33m=\u001b[0m\u001b[1;34m\"minimal\"\u001b[0m\u001b[1;33m)\u001b[0m\u001b[1;33m:\u001b[0m\u001b[1;33m\u001b[0m\u001b[0m\n",
      "\u001b[1;31mAttributeError\u001b[0m: 'NavigableString' object has no attribute 'find_all'"
     ]
    }
   ],
   "source": [
    "for x in result:\n",
    "    title = x.find_all('img', class_=\"wide-image\").attrs\n",
    "print(title)"
   ]
  }
 ],
 "metadata": {
  "kernelspec": {
   "display_name": "Python 3",
   "language": "python",
   "name": "python3"
  },
  "language_info": {
   "codemirror_mode": {
    "name": "ipython",
    "version": 3
   },
   "file_extension": ".py",
   "mimetype": "text/x-python",
   "name": "python",
   "nbconvert_exporter": "python",
   "pygments_lexer": "ipython3",
   "version": "3.6.3"
  }
 },
 "nbformat": 4,
 "nbformat_minor": 2
}
